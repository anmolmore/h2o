{
 "cells": [
  {
   "cell_type": "code",
   "execution_count": 1,
   "metadata": {},
   "outputs": [],
   "source": [
    "import h2o\n",
    "import pandas as pd\n",
    "import random\n",
    "from random import randint"
   ]
  },
  {
   "cell_type": "code",
   "execution_count": 2,
   "metadata": {},
   "outputs": [
    {
     "data": {
      "text/html": [
       "<div>\n",
       "<style scoped>\n",
       "    .dataframe tbody tr th:only-of-type {\n",
       "        vertical-align: middle;\n",
       "    }\n",
       "\n",
       "    .dataframe tbody tr th {\n",
       "        vertical-align: top;\n",
       "    }\n",
       "\n",
       "    .dataframe thead th {\n",
       "        text-align: right;\n",
       "    }\n",
       "</style>\n",
       "<table border=\"1\" class=\"dataframe\">\n",
       "  <thead>\n",
       "    <tr style=\"text-align: right;\">\n",
       "      <th></th>\n",
       "      <th>No of BedRooms</th>\n",
       "      <th>Size</th>\n",
       "      <th>No of Floors</th>\n",
       "      <th>Area Code</th>\n",
       "      <th>State</th>\n",
       "      <th>Area Type</th>\n",
       "      <th>Age of Contruction</th>\n",
       "      <th>Price</th>\n",
       "    </tr>\n",
       "  </thead>\n",
       "  <tbody>\n",
       "    <tr>\n",
       "      <th>0</th>\n",
       "      <td>7</td>\n",
       "      <td>1601.57</td>\n",
       "      <td>1</td>\n",
       "      <td>15815</td>\n",
       "      <td>Florida</td>\n",
       "      <td>Commercial</td>\n",
       "      <td>5</td>\n",
       "      <td>485773.1</td>\n",
       "    </tr>\n",
       "    <tr>\n",
       "      <th>1</th>\n",
       "      <td>1</td>\n",
       "      <td>2390.94</td>\n",
       "      <td>1</td>\n",
       "      <td>16514</td>\n",
       "      <td>Georgia</td>\n",
       "      <td>Midscale</td>\n",
       "      <td>9</td>\n",
       "      <td>508353.2</td>\n",
       "    </tr>\n",
       "    <tr>\n",
       "      <th>2</th>\n",
       "      <td>4</td>\n",
       "      <td>1048.08</td>\n",
       "      <td>1</td>\n",
       "      <td>42032</td>\n",
       "      <td>Washington</td>\n",
       "      <td>Commercial</td>\n",
       "      <td>2</td>\n",
       "      <td>495985.4</td>\n",
       "    </tr>\n",
       "    <tr>\n",
       "      <th>3</th>\n",
       "      <td>8</td>\n",
       "      <td>1842.40</td>\n",
       "      <td>3</td>\n",
       "      <td>34603</td>\n",
       "      <td>New York</td>\n",
       "      <td>Downscale</td>\n",
       "      <td>13</td>\n",
       "      <td>509686.0</td>\n",
       "    </tr>\n",
       "    <tr>\n",
       "      <th>4</th>\n",
       "      <td>1</td>\n",
       "      <td>2447.31</td>\n",
       "      <td>3</td>\n",
       "      <td>32305</td>\n",
       "      <td>New York</td>\n",
       "      <td>Upscale</td>\n",
       "      <td>7</td>\n",
       "      <td>526635.3</td>\n",
       "    </tr>\n",
       "  </tbody>\n",
       "</table>\n",
       "</div>"
      ],
      "text/plain": [
       "   No of BedRooms     Size  No of Floors  Area Code       State   Area Type  \\\n",
       "0               7  1601.57             1      15815     Florida  Commercial   \n",
       "1               1  2390.94             1      16514     Georgia    Midscale   \n",
       "2               4  1048.08             1      42032  Washington  Commercial   \n",
       "3               8  1842.40             3      34603    New York   Downscale   \n",
       "4               1  2447.31             3      32305    New York     Upscale   \n",
       "\n",
       "   Age of Contruction     Price  \n",
       "0                   5  485773.1  \n",
       "1                   9  508353.2  \n",
       "2                   2  495985.4  \n",
       "3                  13  509686.0  \n",
       "4                   7  526635.3  "
      ]
     },
     "execution_count": 2,
     "metadata": {},
     "output_type": "execute_result"
    }
   ],
   "source": [
    "#Generate random dataset for housing prices\n",
    "\n",
    "def list_integer(no_of_rows, min, max):\n",
    "    x_list = []\n",
    "    for i in range(no_of_rows) :\n",
    "        x_list.append(randint(min, max))\n",
    "    return(x_list)\n",
    "\n",
    "def list_float(no_of_rows, min, max):\n",
    "    x_list = []\n",
    "    for i in range(no_of_rows) :\n",
    "        x_list.append(round(random.uniform(min,max),2))\n",
    "    return(x_list)\n",
    "\n",
    "def list_random_pick(no_of_rows, pick_list) :\n",
    "    x_list = []\n",
    "    for i in range(no_of_rows) :\n",
    "        x_list.append(random.choice(pick_list))\n",
    "    return(x_list)\n",
    "\n",
    "def list_random_pick(no_of_rows, pick_list) :\n",
    "    x_list = []\n",
    "    for i in range(no_of_rows) :\n",
    "        x_list.append(random.choice(pick_list))\n",
    "    return(x_list)\n",
    "    \n",
    "no_of_rows = 1000\n",
    "#feature and target columns\n",
    "train_columns = ['No of BedRooms','Size','No of Floors','Area Code','State','Area Type','Age of Contruction']\n",
    "df = pd.DataFrame(columns=train_columns)\n",
    "\n",
    "#create arrays for each column with randomness in price\n",
    "df['No of BedRooms'] = list_integer(no_of_rows,1,8)\n",
    "df['Size'] = list_float(no_of_rows,600,2800)\n",
    "df['No of Floors'] = list_integer(no_of_rows,0,3)\n",
    "df['Area Code'] = list_integer(no_of_rows,10000,50000)\n",
    "state_list = [\"Arizona\",\"California\",\"Connecticut\",\"Columbia\", \"Florida\", \"Georgia\",\"Kansas\",\"New York\",\"Texas\",\"Washington\"]\n",
    "df['State'] = list_random_pick(no_of_rows,state_list)\n",
    "area_type_list = [\"Upscale\",\"Midscale\",\"Downscale\",\"Commercial\"]\n",
    "df['Area Type'] = list_random_pick(no_of_rows,area_type_list)\n",
    "df['Age of Contruction'] = list_integer(no_of_rows,1,15)\n",
    "\n",
    "#Calculate housing price, add some randomness\n",
    "df['Price'] = randint(100000, 500000) + df['No of BedRooms']*100 + df['No of Floors']*100 + df['Size']*30 + df['Area Code']*1 - df['Age of Contruction']*300\n",
    "df.head()"
   ]
  },
  {
   "cell_type": "code",
   "execution_count": 3,
   "metadata": {},
   "outputs": [
    {
     "name": "stdout",
     "output_type": "stream",
     "text": [
      "                    No of BedRooms      Size  No of Floors  Area Code  \\\n",
      "No of BedRooms            1.000000  0.057615      0.029999  -0.033856   \n",
      "Size                      0.057615  1.000000     -0.040389   0.021444   \n",
      "No of Floors              0.029999 -0.040389      1.000000  -0.032381   \n",
      "Area Code                -0.033856  0.021444     -0.032381   1.000000   \n",
      "Age of Contruction        0.016260  0.012805      0.034052  -0.005449   \n",
      "Price                     0.040826  0.856778     -0.047421   0.530557   \n",
      "\n",
      "                    Age of Contruction     Price  \n",
      "No of BedRooms                0.016260  0.040826  \n",
      "Size                          0.012805  0.856778  \n",
      "No of Floors                  0.034052 -0.047421  \n",
      "Area Code                    -0.005449  0.530557  \n",
      "Age of Contruction            1.000000 -0.049800  \n",
      "Price                        -0.049800  1.000000  \n"
     ]
    }
   ],
   "source": [
    "#print a correlation matrix to validate our data has good amount of relation\n",
    "print(df.corr())"
   ]
  },
  {
   "cell_type": "code",
   "execution_count": 4,
   "metadata": {},
   "outputs": [
    {
     "name": "stdout",
     "output_type": "stream",
     "text": [
      "Checking whether there is an H2O instance running at http://localhost:54321..... not found.\n",
      "Attempting to start a local H2O server...\n",
      "  Java Version: java version \"1.8.0_181\"; Java(TM) SE Runtime Environment (build 1.8.0_181-b13); Java HotSpot(TM) 64-Bit Server VM (build 25.181-b13, mixed mode)\n",
      "  Starting server from /Users/anmol/anaconda3/lib/python3.6/site-packages/h2o/backend/bin/h2o.jar\n",
      "  Ice root: /var/folders/c7/lxw5_lpx2018kgdjjfy_m00r0000gn/T/tmps4rwqg_p\n",
      "  JVM stdout: /var/folders/c7/lxw5_lpx2018kgdjjfy_m00r0000gn/T/tmps4rwqg_p/h2o_anmol_started_from_python.out\n",
      "  JVM stderr: /var/folders/c7/lxw5_lpx2018kgdjjfy_m00r0000gn/T/tmps4rwqg_p/h2o_anmol_started_from_python.err\n",
      "  Server is running at http://127.0.0.1:54321\n",
      "Connecting to H2O server at http://127.0.0.1:54321... successful.\n"
     ]
    },
    {
     "data": {
      "text/html": [
       "<div style=\"overflow:auto\"><table style=\"width:50%\"><tr><td>H2O cluster uptime:</td>\n",
       "<td>02 secs</td></tr>\n",
       "<tr><td>H2O cluster timezone:</td>\n",
       "<td>Asia/Kolkata</td></tr>\n",
       "<tr><td>H2O data parsing timezone:</td>\n",
       "<td>UTC</td></tr>\n",
       "<tr><td>H2O cluster version:</td>\n",
       "<td>3.20.0.5</td></tr>\n",
       "<tr><td>H2O cluster version age:</td>\n",
       "<td>21 days and 57 minutes </td></tr>\n",
       "<tr><td>H2O cluster name:</td>\n",
       "<td>H2O_from_python_anmol_yip98s</td></tr>\n",
       "<tr><td>H2O cluster total nodes:</td>\n",
       "<td>1</td></tr>\n",
       "<tr><td>H2O cluster free memory:</td>\n",
       "<td>1.778 Gb</td></tr>\n",
       "<tr><td>H2O cluster total cores:</td>\n",
       "<td>4</td></tr>\n",
       "<tr><td>H2O cluster allowed cores:</td>\n",
       "<td>4</td></tr>\n",
       "<tr><td>H2O cluster status:</td>\n",
       "<td>accepting new members, healthy</td></tr>\n",
       "<tr><td>H2O connection url:</td>\n",
       "<td>http://127.0.0.1:54321</td></tr>\n",
       "<tr><td>H2O connection proxy:</td>\n",
       "<td>None</td></tr>\n",
       "<tr><td>H2O internal security:</td>\n",
       "<td>False</td></tr>\n",
       "<tr><td>H2O API Extensions:</td>\n",
       "<td>XGBoost, Algos, AutoML, Core V3, Core V4</td></tr>\n",
       "<tr><td>Python version:</td>\n",
       "<td>3.6.5 final</td></tr></table></div>"
      ],
      "text/plain": [
       "--------------------------  ----------------------------------------\n",
       "H2O cluster uptime:         02 secs\n",
       "H2O cluster timezone:       Asia/Kolkata\n",
       "H2O data parsing timezone:  UTC\n",
       "H2O cluster version:        3.20.0.5\n",
       "H2O cluster version age:    21 days and 57 minutes\n",
       "H2O cluster name:           H2O_from_python_anmol_yip98s\n",
       "H2O cluster total nodes:    1\n",
       "H2O cluster free memory:    1.778 Gb\n",
       "H2O cluster total cores:    4\n",
       "H2O cluster allowed cores:  4\n",
       "H2O cluster status:         accepting new members, healthy\n",
       "H2O connection url:         http://127.0.0.1:54321\n",
       "H2O connection proxy:\n",
       "H2O internal security:      False\n",
       "H2O API Extensions:         XGBoost, Algos, AutoML, Core V3, Core V4\n",
       "Python version:             3.6.5 final\n",
       "--------------------------  ----------------------------------------"
      ]
     },
     "metadata": {},
     "output_type": "display_data"
    }
   ],
   "source": [
    "#initialize h2o session\n",
    "h2o.init()"
   ]
  },
  {
   "cell_type": "code",
   "execution_count": 5,
   "metadata": {},
   "outputs": [
    {
     "name": "stderr",
     "output_type": "stream",
     "text": [
      "/Users/anmol/anaconda3/lib/python3.6/site-packages/h2o/utils/shared_utils.py:177: FutureWarning: Method .as_matrix will be removed in a future version. Use .values instead.\n",
      "  data = _handle_python_lists(python_obj.as_matrix().tolist(), -1)[1]\n"
     ]
    },
    {
     "name": "stdout",
     "output_type": "stream",
     "text": [
      "Parse progress: |█████████████████████████████████████████████████████████| 100%\n"
     ]
    }
   ],
   "source": [
    "#convert dataframe to h2o frame\n",
    "data = h2o.H2OFrame(df)"
   ]
  },
  {
   "cell_type": "code",
   "execution_count": 6,
   "metadata": {},
   "outputs": [
    {
     "data": {
      "text/html": [
       "<table>\n",
       "<thead>\n",
       "<tr><th>       </th><th>No of BedRooms    </th><th>Size             </th><th>No of Floors      </th><th>Area Code         </th><th>State     </th><th>Area Type  </th><th>Age of Contruction  </th><th>Price             </th></tr>\n",
       "</thead>\n",
       "<tbody>\n",
       "<tr><td>type   </td><td>int               </td><td>real             </td><td>int               </td><td>int               </td><td>enum      </td><td>enum       </td><td>int                 </td><td>real              </td></tr>\n",
       "<tr><td>mins   </td><td>1.0               </td><td>601.78           </td><td>0.0               </td><td>10023.0           </td><td>          </td><td>           </td><td>1.0                 </td><td>450207.8          </td></tr>\n",
       "<tr><td>mean   </td><td>4.514000000000001 </td><td>1702.20499       </td><td>1.5079999999999987</td><td>29974.887999999974</td><td>          </td><td>           </td><td>8.122999999999987   </td><td>501817.3376999996 </td></tr>\n",
       "<tr><td>maxs   </td><td>8.0               </td><td>2796.66          </td><td>3.0               </td><td>49989.0           </td><td>          </td><td>           </td><td>15.0                </td><td>549647.4          </td></tr>\n",
       "<tr><td>sigma  </td><td>2.2845181161511983</td><td>630.1105550197893</td><td>1.1230303634351109</td><td>11451.852915080799</td><td>          </td><td>           </td><td>4.332509854765671   </td><td>22340.531548794264</td></tr>\n",
       "<tr><td>zeros  </td><td>0                 </td><td>0                </td><td>253               </td><td>0                 </td><td>          </td><td>           </td><td>0                   </td><td>0                 </td></tr>\n",
       "<tr><td>missing</td><td>0                 </td><td>0                </td><td>0                 </td><td>0                 </td><td>0         </td><td>0          </td><td>0                   </td><td>0                 </td></tr>\n",
       "<tr><td>0      </td><td>7.0               </td><td>1601.57          </td><td>1.0               </td><td>15815.0           </td><td>Florida   </td><td>Commercial </td><td>5.0                 </td><td>485773.1          </td></tr>\n",
       "<tr><td>1      </td><td>1.0               </td><td>2390.94          </td><td>1.0               </td><td>16514.0           </td><td>Georgia   </td><td>Midscale   </td><td>9.0                 </td><td>508353.2          </td></tr>\n",
       "<tr><td>2      </td><td>4.0               </td><td>1048.08          </td><td>1.0               </td><td>42032.0           </td><td>Washington</td><td>Commercial </td><td>2.0                 </td><td>495985.4          </td></tr>\n",
       "<tr><td>3      </td><td>8.0               </td><td>1842.4           </td><td>3.0               </td><td>34603.0           </td><td>New York  </td><td>Downscale  </td><td>13.0                </td><td>509686.0          </td></tr>\n",
       "<tr><td>4      </td><td>1.0               </td><td>2447.31          </td><td>3.0               </td><td>32305.0           </td><td>New York  </td><td>Upscale    </td><td>7.0                 </td><td>526635.3          </td></tr>\n",
       "<tr><td>5      </td><td>4.0               </td><td>664.23           </td><td>1.0               </td><td>13341.0           </td><td>New York  </td><td>Midscale   </td><td>13.0                </td><td>452478.9          </td></tr>\n",
       "<tr><td>6      </td><td>5.0               </td><td>982.11           </td><td>0.0               </td><td>12374.0           </td><td>Arizona   </td><td>Midscale   </td><td>9.0                 </td><td>462248.3          </td></tr>\n",
       "<tr><td>7      </td><td>7.0               </td><td>1905.5           </td><td>1.0               </td><td>43351.0           </td><td>California</td><td>Midscale   </td><td>15.0                </td><td>519427.0          </td></tr>\n",
       "<tr><td>8      </td><td>8.0               </td><td>2166.6           </td><td>0.0               </td><td>42107.0           </td><td>Texas     </td><td>Commercial </td><td>11.0                </td><td>527216.0          </td></tr>\n",
       "<tr><td>9      </td><td>6.0               </td><td>613.09           </td><td>2.0               </td><td>31778.0           </td><td>Arizona   </td><td>Midscale   </td><td>10.0                </td><td>470581.7          </td></tr>\n",
       "</tbody>\n",
       "</table>"
      ]
     },
     "metadata": {},
     "output_type": "display_data"
    }
   ],
   "source": [
    "data.summary()\n",
    "#check data summary, we can see min, max, mean prices"
   ]
  },
  {
   "cell_type": "code",
   "execution_count": 7,
   "metadata": {},
   "outputs": [],
   "source": [
    "#split data in train, valid and testset\n",
    "train,valid,test = data.split_frame([0.8,0.1])"
   ]
  },
  {
   "cell_type": "code",
   "execution_count": 8,
   "metadata": {},
   "outputs": [],
   "source": [
    "from h2o.estimators.random_forest import H2ORandomForestEstimator"
   ]
  },
  {
   "cell_type": "code",
   "execution_count": 9,
   "metadata": {},
   "outputs": [
    {
     "name": "stdout",
     "output_type": "stream",
     "text": [
      "drf Model Build progress: |███████████████████████████████████████████████| 100%\n"
     ]
    }
   ],
   "source": [
    "mRF = H2ORandomForestEstimator()\n",
    "mRF.train(train_columns,\"Price\",train)"
   ]
  },
  {
   "cell_type": "code",
   "execution_count": 10,
   "metadata": {},
   "outputs": [
    {
     "name": "stdout",
     "output_type": "stream",
     "text": [
      "                timestamp    duration  number_of_trees  training_rmse  \\\n",
      "0     2018-08-30 01:05:01   0.047 sec              0.0            NaN   \n",
      "1     2018-08-30 01:05:01   0.296 sec              1.0   11204.370998   \n",
      "2     2018-08-30 01:05:01   0.371 sec              2.0   10535.158025   \n",
      "3     2018-08-30 01:05:01   0.440 sec              3.0   11592.240760   \n",
      "4     2018-08-30 01:05:02   0.493 sec              4.0   10858.624512   \n",
      "5     2018-08-30 01:05:02   0.528 sec              5.0   10692.846992   \n",
      "6     2018-08-30 01:05:02   0.554 sec              6.0    9801.035965   \n",
      "7     2018-08-30 01:05:02   0.579 sec              7.0    9614.870848   \n",
      "8     2018-08-30 01:05:02   0.605 sec              8.0    9168.919572   \n",
      "9     2018-08-30 01:05:02   0.630 sec              9.0    8898.962874   \n",
      "10    2018-08-30 01:05:02   0.653 sec             10.0    8242.770213   \n",
      "11    2018-08-30 01:05:02   0.686 sec             11.0    7867.403112   \n",
      "12    2018-08-30 01:05:02   0.711 sec             12.0    7681.717536   \n",
      "13    2018-08-30 01:05:02   0.741 sec             13.0    7875.837009   \n",
      "14    2018-08-30 01:05:02   0.769 sec             14.0    7282.722028   \n",
      "15    2018-08-30 01:05:02   0.802 sec             15.0    6949.921184   \n",
      "16    2018-08-30 01:05:02   0.838 sec             16.0    6855.013809   \n",
      "17    2018-08-30 01:05:02   0.861 sec             17.0    6832.835561   \n",
      "18    2018-08-30 01:05:02   0.893 sec             18.0    6901.956352   \n",
      "19    2018-08-30 01:05:02   0.914 sec             19.0    6706.438152   \n",
      "20    2018-08-30 01:05:02   0.932 sec             20.0    6502.139685   \n",
      "21    2018-08-30 01:05:02   0.955 sec             21.0    6526.712711   \n",
      "22    2018-08-30 01:05:02   0.978 sec             22.0    6489.487933   \n",
      "23    2018-08-30 01:05:02   1.025 sec             23.0    6341.771680   \n",
      "24    2018-08-30 01:05:02   1.049 sec             24.0    6238.026686   \n",
      "25    2018-08-30 01:05:02   1.068 sec             25.0    6125.928136   \n",
      "26    2018-08-30 01:05:02   1.094 sec             26.0    6101.159851   \n",
      "27    2018-08-30 01:05:02   1.119 sec             27.0    5974.007332   \n",
      "28    2018-08-30 01:05:02   1.141 sec             28.0    6194.463942   \n",
      "29    2018-08-30 01:05:02   1.167 sec             29.0    6119.527302   \n",
      "30    2018-08-30 01:05:02   1.191 sec             30.0    6054.647080   \n",
      "31    2018-08-30 01:05:02   1.230 sec             31.0    5999.848633   \n",
      "32    2018-08-30 01:05:02   1.278 sec             32.0    6021.686629   \n",
      "33    2018-08-30 01:05:02   1.304 sec             33.0    6032.571609   \n",
      "34    2018-08-30 01:05:02   1.329 sec             34.0    5941.274191   \n",
      "35    2018-08-30 01:05:02   1.353 sec             35.0    5888.983341   \n",
      "36    2018-08-30 01:05:02   1.388 sec             36.0    5782.438473   \n",
      "37    2018-08-30 01:05:02   1.408 sec             37.0    5749.025251   \n",
      "38    2018-08-30 01:05:02   1.430 sec             38.0    5669.674564   \n",
      "39    2018-08-30 01:05:02   1.451 sec             39.0    5661.026443   \n",
      "40    2018-08-30 01:05:03   1.476 sec             40.0    5587.954245   \n",
      "41    2018-08-30 01:05:03   1.504 sec             41.0    5549.162625   \n",
      "42    2018-08-30 01:05:03   1.526 sec             42.0    5493.747031   \n",
      "43    2018-08-30 01:05:03   1.548 sec             43.0    5468.169745   \n",
      "44    2018-08-30 01:05:03   1.562 sec             44.0    5446.108186   \n",
      "45    2018-08-30 01:05:03   1.613 sec             45.0    5388.300424   \n",
      "46    2018-08-30 01:05:03   1.630 sec             46.0    5371.683440   \n",
      "47    2018-08-30 01:05:03   1.654 sec             47.0    5430.721230   \n",
      "48    2018-08-30 01:05:03   1.669 sec             48.0    5367.316440   \n",
      "49    2018-08-30 01:05:03   1.691 sec             49.0    5340.701221   \n",
      "50    2018-08-30 01:05:03   1.713 sec             50.0    5319.178555   \n",
      "\n",
      "    training_mae  training_deviance  \n",
      "0            NaN                NaN  \n",
      "1    7673.447917       1.255379e+08  \n",
      "2    7049.559629       1.109896e+08  \n",
      "3    7835.691652       1.343800e+08  \n",
      "4    7573.126017       1.179097e+08  \n",
      "5    7359.437692       1.143370e+08  \n",
      "6    6968.865912       9.606031e+07  \n",
      "7    6968.974397       9.244574e+07  \n",
      "8    6702.593149       8.406909e+07  \n",
      "9    6496.491735       7.919154e+07  \n",
      "10   6200.792620       6.794326e+07  \n",
      "11   5947.377543       6.189603e+07  \n",
      "12   5871.843775       5.900878e+07  \n",
      "13   5906.225186       6.202881e+07  \n",
      "14   5550.003752       5.303804e+07  \n",
      "15   5264.251247       4.830140e+07  \n",
      "16   5236.162645       4.699121e+07  \n",
      "17   5302.138467       4.668764e+07  \n",
      "18   5360.281616       4.763700e+07  \n",
      "19   5201.972970       4.497631e+07  \n",
      "20   5028.761567       4.227782e+07  \n",
      "21   5049.529296       4.259798e+07  \n",
      "22   5077.476261       4.211345e+07  \n",
      "23   4961.835783       4.021807e+07  \n",
      "24   4924.623717       3.891298e+07  \n",
      "25   4835.303046       3.752700e+07  \n",
      "26   4805.564514       3.722415e+07  \n",
      "27   4700.711770       3.568876e+07  \n",
      "28   4862.092457       3.837138e+07  \n",
      "29   4784.104800       3.744861e+07  \n",
      "30   4732.577589       3.665875e+07  \n",
      "31   4708.264947       3.599818e+07  \n",
      "32   4703.121021       3.626071e+07  \n",
      "33   4698.278519       3.639192e+07  \n",
      "34   4617.499103       3.529874e+07  \n",
      "35   4579.261717       3.468012e+07  \n",
      "36   4503.970904       3.343659e+07  \n",
      "37   4502.066254       3.305129e+07  \n",
      "38   4442.986853       3.214521e+07  \n",
      "39   4437.916815       3.204722e+07  \n",
      "40   4368.611910       3.122523e+07  \n",
      "41   4336.953534       3.079321e+07  \n",
      "42   4293.623264       3.018126e+07  \n",
      "43   4268.462064       2.990088e+07  \n",
      "44   4264.727513       2.966009e+07  \n",
      "45   4235.454534       2.903378e+07  \n",
      "46   4224.823325       2.885498e+07  \n",
      "47   4257.497350       2.949273e+07  \n",
      "48   4201.164852       2.880809e+07  \n",
      "49   4186.176945       2.852309e+07  \n",
      "50   4172.386510       2.829366e+07  \n"
     ]
    }
   ],
   "source": [
    "#Get Random Forest model summary\n",
    "print(mRF.scoring_history())"
   ]
  },
  {
   "cell_type": "code",
   "execution_count": 11,
   "metadata": {},
   "outputs": [
    {
     "data": {
      "text/plain": [
       "<matplotlib.axes._subplots.AxesSubplot at 0x114ade358>"
      ]
     },
     "execution_count": 11,
     "metadata": {},
     "output_type": "execute_result"
    }
   ],
   "source": [
    "#Test initial model performance on test data\n",
    "mRF.model_performance(test)\n",
    "\n",
    "# plot training logloss and auc\n",
    "sh = mRF.score_history()\n",
    "sh = pd.DataFrame(sh)\n",
    "sh.plot(x='number_of_trees', y = ['training_deviance'])"
   ]
  },
  {
   "cell_type": "code",
   "execution_count": 12,
   "metadata": {},
   "outputs": [
    {
     "name": "stdout",
     "output_type": "stream",
     "text": [
      "drf Model Build progress: |███████████████████████████████████████████████| 100%\n",
      "\n",
      "ModelMetricsRegression: drf\n",
      "** Reported on test data. **\n",
      "\n",
      "MSE: 24904009.833267834\n",
      "RMSE: 4990.391751482826\n",
      "MAE: 3907.8726190476164\n",
      "RMSLE: 0.010002517711613762\n",
      "Mean Residual Deviance: 24904009.833267834\n"
     ]
    },
    {
     "data": {
      "text/plain": []
     },
     "execution_count": 12,
     "metadata": {},
     "output_type": "execute_result"
    }
   ],
   "source": [
    "#Lets create the model again with validation frame\n",
    "#We can see we got a better RMSE\n",
    "\n",
    "mRF_validation_frame = H2ORandomForestEstimator(model_id=\"mrf_validation_model\")\n",
    "mRF_validation_frame.train(train_columns,\"Price\",train, validation_frame=valid)\n",
    "mRF_validation_frame.model_performance(test)"
   ]
  },
  {
   "cell_type": "code",
   "execution_count": 13,
   "metadata": {},
   "outputs": [
    {
     "data": {
      "text/plain": [
       "<matplotlib.axes._subplots.AxesSubplot at 0x114ac5f28>"
      ]
     },
     "execution_count": 13,
     "metadata": {},
     "output_type": "execute_result"
    },
    {
     "data": {
      "image/png": "[encoded data removed]",
      "text/plain": [
       "<Figure size 432x288 with 1 Axes>"
      ]
     },
     "metadata": {},
     "output_type": "display_data"
    }
   ],
   "source": [
    "# plot rmse against no of trees, its much more smoother now\n",
    "sh = mRF_validation_frame.score_history()\n",
    "sh = pd.DataFrame(sh)\n",
    "#print(sh)\n",
    "sh.plot(x='number_of_trees', y = ['training_rmse','validation_rmse'])"
   ]
  },
  {
   "cell_type": "code",
   "execution_count": 14,
   "metadata": {},
   "outputs": [
    {
     "name": "stdout",
     "output_type": "stream",
     "text": [
      "drf Model Build progress: |███████████████████████████████████████████████| 100%\n",
      "\n",
      "ModelMetricsRegression: drf\n",
      "** Reported on test data. **\n",
      "\n",
      "MSE: 21700576.788461637\n",
      "RMSE: 4658.38778854462\n",
      "MAE: 3700.3447369047612\n",
      "RMSLE: 0.009449102066513948\n",
      "Mean Residual Deviance: 21700576.788461637\n"
     ]
    },
    {
     "data": {
      "text/plain": []
     },
     "execution_count": 14,
     "metadata": {},
     "output_type": "execute_result"
    }
   ],
   "source": [
    "#Now lets try to overfit the data with high number of trees\n",
    "mRF_overfit = H2ORandomForestEstimator(model_id=\"mrf_overfit\",ntrees=1000)\n",
    "mRF_overfit.train(train_columns,\"Price\",train, validation_frame=valid)\n",
    "mRF_overfit.model_performance(test)"
   ]
  },
  {
   "cell_type": "code",
   "execution_count": 15,
   "metadata": {},
   "outputs": [
    {
     "name": "stdout",
     "output_type": "stream",
     "text": [
      "                  timestamp    duration  number_of_trees  training_rmse  \\\n",
      "0       2018-08-30 01:05:05   0.009 sec              0.0            NaN   \n",
      "1       2018-08-30 01:05:05   0.048 sec              1.0   16121.884879   \n",
      "2       2018-08-30 01:05:06   0.068 sec              2.0   13885.935542   \n",
      "3       2018-08-30 01:05:06   0.077 sec              3.0   12375.731020   \n",
      "4       2018-08-30 01:05:06   0.112 sec              4.0   11652.739017   \n",
      "5       2018-08-30 01:05:06   0.142 sec              5.0   10539.956480   \n",
      "6       2018-08-30 01:05:06   0.155 sec              6.0   10145.683005   \n",
      "7       2018-08-30 01:05:06   0.167 sec              7.0    9705.427679   \n",
      "8       2018-08-30 01:05:06   0.180 sec              8.0    9790.274221   \n",
      "9       2018-08-30 01:05:06   0.200 sec              9.0    9111.250529   \n",
      "10      2018-08-30 01:05:06   0.212 sec             10.0    8945.798001   \n",
      "11      2018-08-30 01:05:06   0.225 sec             11.0    8497.639426   \n",
      "12      2018-08-30 01:05:06   0.325 sec             12.0    8347.417447   \n",
      "13      2018-08-30 01:05:06   0.395 sec             13.0    8368.856485   \n",
      "14      2018-08-30 01:05:06   0.410 sec             14.0    8010.510216   \n",
      "15      2018-08-30 01:05:06   0.419 sec             15.0    7910.642749   \n",
      "16      2018-08-30 01:05:06   0.430 sec             16.0    7659.526242   \n",
      "17      2018-08-30 01:05:06   0.446 sec             17.0    7474.451086   \n",
      "18      2018-08-30 01:05:06   0.456 sec             18.0    7244.639751   \n",
      "19      2018-08-30 01:05:06   0.467 sec             19.0    7026.473985   \n",
      "20      2018-08-30 01:05:06   0.477 sec             20.0    6784.567813   \n",
      "21      2018-08-30 01:05:06   0.488 sec             21.0    6685.571541   \n",
      "22      2018-08-30 01:05:06   0.498 sec             22.0    6644.927006   \n",
      "23      2018-08-30 01:05:06   0.509 sec             23.0    6641.549080   \n",
      "24      2018-08-30 01:05:06   0.520 sec             24.0    6512.200473   \n",
      "25      2018-08-30 01:05:06   0.532 sec             25.0    6566.227417   \n",
      "26      2018-08-30 01:05:06   0.545 sec             26.0    6460.440486   \n",
      "27      2018-08-30 01:05:06   0.559 sec             27.0    6441.873482   \n",
      "28      2018-08-30 01:05:06   0.573 sec             28.0    6424.159576   \n",
      "29      2018-08-30 01:05:06   0.585 sec             29.0    6351.440396   \n",
      "..  ..                  ...         ...              ...            ...   \n",
      "161     2018-08-30 01:05:09   3.410 sec            161.0    4982.964133   \n",
      "162     2018-08-30 01:05:09   3.427 sec            162.0    4977.098029   \n",
      "163     2018-08-30 01:05:09   3.443 sec            163.0    4975.314055   \n",
      "164     2018-08-30 01:05:09   3.458 sec            164.0    4983.031379   \n",
      "165     2018-08-30 01:05:09   3.473 sec            165.0    4973.687800   \n",
      "166     2018-08-30 01:05:09   3.490 sec            166.0    4965.078908   \n",
      "167     2018-08-30 01:05:09   3.510 sec            167.0    4959.136248   \n",
      "168     2018-08-30 01:05:09   3.529 sec            168.0    4951.782638   \n",
      "169     2018-08-30 01:05:09   3.548 sec            169.0    4942.919013   \n",
      "170     2018-08-30 01:05:09   3.565 sec            170.0    4947.662327   \n",
      "171     2018-08-30 01:05:09   3.586 sec            171.0    4936.801564   \n",
      "172     2018-08-30 01:05:09   3.610 sec            172.0    4940.424284   \n",
      "173     2018-08-30 01:05:09   3.635 sec            173.0    4937.206805   \n",
      "174     2018-08-30 01:05:09   3.668 sec            174.0    4925.431457   \n",
      "175     2018-08-30 01:05:09   3.685 sec            175.0    4924.349599   \n",
      "176     2018-08-30 01:05:09   3.705 sec            176.0    4920.351970   \n",
      "177     2018-08-30 01:05:09   3.729 sec            177.0    4907.947649   \n",
      "178     2018-08-30 01:05:09   3.752 sec            178.0    4901.989504   \n",
      "179     2018-08-30 01:05:09   3.776 sec            179.0    4895.306571   \n",
      "180     2018-08-30 01:05:09   3.804 sec            180.0    4885.453167   \n",
      "181     2018-08-30 01:05:09   3.830 sec            181.0    4876.170598   \n",
      "182     2018-08-30 01:05:09   3.879 sec            182.0    4884.916134   \n",
      "183     2018-08-30 01:05:09   3.906 sec            183.0    4897.453467   \n",
      "184     2018-08-30 01:05:09   3.929 sec            184.0    4896.762870   \n",
      "185     2018-08-30 01:05:09   3.954 sec            185.0    4898.049133   \n",
      "186     2018-08-30 01:05:09   3.971 sec            186.0    4894.798342   \n",
      "187     2018-08-30 01:05:09   3.989 sec            187.0    4907.840252   \n",
      "188     2018-08-30 01:05:09   4.006 sec            188.0    4906.828256   \n",
      "189     2018-08-30 01:05:13   8.006 sec            513.0    4824.435873   \n",
      "190     2018-08-30 01:05:17  11.221 sec           1000.0    4814.141163   \n",
      "\n",
      "     training_mae  training_deviance  validation_rmse  validation_mae  \\\n",
      "0             NaN                NaN              NaN             NaN   \n",
      "1    11485.980009       2.599152e+08     15706.201312    11126.240196   \n",
      "2     9869.461389       1.928192e+08     11685.983034     9262.003830   \n",
      "3     8803.336122       1.531587e+08      9230.719363     7352.134600   \n",
      "4     8272.158807       1.357863e+08      7966.445683     6315.271676   \n",
      "5     7500.668703       1.110907e+08      6953.360697     5456.832537   \n",
      "6     7285.327137       1.029349e+08      6837.277877     5531.063368   \n",
      "7     6949.389941       9.419533e+07      6464.241682     5151.717306   \n",
      "8     7125.654544       9.584947e+07      6381.711830     5133.133732   \n",
      "9     6655.121744       8.301489e+07      6125.311852     4874.492885   \n",
      "10    6565.904035       8.002730e+07      6137.852074     4918.903431   \n",
      "11    6325.097214       7.220988e+07      5906.716153     4695.986882   \n",
      "12    6317.256045       6.967938e+07      6012.786681     4771.192862   \n",
      "13    6327.336926       7.003776e+07      6269.658281     4878.811534   \n",
      "14    6044.163307       6.416827e+07      6110.406082     4799.882834   \n",
      "15    5917.959314       6.257827e+07      6068.045307     4700.231230   \n",
      "16    5739.221737       5.866834e+07      5906.406089     4569.480699   \n",
      "17    5676.359674       5.586742e+07      6006.921566     4701.930742   \n",
      "18    5536.921630       5.248481e+07      5930.108798     4644.126923   \n",
      "19    5355.445187       4.937134e+07      5712.721747     4469.011707   \n",
      "20    5187.128876       4.603036e+07      5595.045001     4350.094761   \n",
      "21    5107.715076       4.469687e+07      5448.066036     4216.655273   \n",
      "22    5098.393523       4.415505e+07      5338.518577     4230.774064   \n",
      "23    5076.678025       4.411017e+07      5506.057897     4387.574169   \n",
      "24    4983.436145       4.240876e+07      5432.728850     4296.039599   \n",
      "25    5045.114093       4.311534e+07      5513.247990     4321.772623   \n",
      "26    4977.862550       4.173729e+07      5428.889624     4237.559719   \n",
      "27    4972.508916       4.149773e+07      5464.045824     4298.418210   \n",
      "28    4972.618431       4.126983e+07      5466.529852     4314.951790   \n",
      "29    4932.099927       4.034080e+07      5419.269508     4278.901084   \n",
      "..            ...                ...              ...             ...   \n",
      "161   3916.138335       2.482993e+07      4669.498495     3631.509773   \n",
      "162   3908.851916       2.477150e+07      4658.044132     3623.647751   \n",
      "163   3909.593044       2.475375e+07      4662.591271     3620.027942   \n",
      "164   3912.795375       2.483060e+07      4680.817735     3643.112170   \n",
      "165   3906.934410       2.473757e+07      4669.086825     3632.550854   \n",
      "166   3900.545900       2.465201e+07      4655.248983     3624.775497   \n",
      "167   3899.435122       2.459303e+07      4646.758574     3621.915415   \n",
      "168   3892.136207       2.452015e+07      4642.779508     3619.763940   \n",
      "169   3882.203683       2.443245e+07      4627.578053     3607.457954   \n",
      "170   3890.629769       2.447936e+07      4621.809300     3606.555814   \n",
      "171   3882.814374       2.437201e+07      4621.785289     3606.101945   \n",
      "172   3884.516731       2.440779e+07      4604.660373     3593.237355   \n",
      "173   3885.288172       2.437601e+07      4601.382845     3590.783604   \n",
      "174   3873.713611       2.425988e+07      4594.074669     3583.068969   \n",
      "175   3872.392611       2.424922e+07      4594.360616     3586.039526   \n",
      "176   3871.069852       2.420986e+07      4594.175779     3589.483747   \n",
      "177   3861.475765       2.408795e+07      4589.463455     3579.253470   \n",
      "178   3857.514994       2.402950e+07      4590.804389     3589.306330   \n",
      "179   3854.575831       2.396403e+07      4580.946571     3585.682300   \n",
      "180   3843.227609       2.386765e+07      4571.420884     3576.373507   \n",
      "181   3835.784552       2.377704e+07      4561.392450     3568.747034   \n",
      "182   3844.848924       2.386241e+07      4567.673037     3576.162815   \n",
      "183   3851.178528       2.398505e+07      4585.635366     3594.102834   \n",
      "184   3848.414027       2.397829e+07      4590.689231     3596.444751   \n",
      "185   3846.420078       2.399089e+07      4611.410703     3614.534984   \n",
      "186   3841.965605       2.395905e+07      4608.019347     3616.254342   \n",
      "187   3856.519198       2.408690e+07      4616.545456     3619.706554   \n",
      "188   3856.426643       2.407696e+07      4613.457964     3612.783729   \n",
      "189   3783.199955       2.327518e+07      4518.012831     3497.208774   \n",
      "190   3774.731940       2.317596e+07      4516.179710     3495.161857   \n",
      "\n",
      "     validation_deviance  \n",
      "0                    NaN  \n",
      "1           2.466848e+08  \n",
      "2           1.365622e+08  \n",
      "3           8.520618e+07  \n",
      "4           6.346426e+07  \n",
      "5           4.834922e+07  \n",
      "6           4.674837e+07  \n",
      "7           4.178642e+07  \n",
      "8           4.072625e+07  \n",
      "9           3.751945e+07  \n",
      "10          3.767323e+07  \n",
      "11          3.488930e+07  \n",
      "12          3.615360e+07  \n",
      "13          3.930861e+07  \n",
      "14          3.733706e+07  \n",
      "15          3.682117e+07  \n",
      "16          3.488563e+07  \n",
      "17          3.608311e+07  \n",
      "18          3.516619e+07  \n",
      "19          3.263519e+07  \n",
      "20          3.130453e+07  \n",
      "21          2.968142e+07  \n",
      "22          2.849978e+07  \n",
      "23          3.031667e+07  \n",
      "24          2.951454e+07  \n",
      "25          3.039590e+07  \n",
      "26          2.947284e+07  \n",
      "27          2.985580e+07  \n",
      "28          2.988295e+07  \n",
      "29          2.936848e+07  \n",
      "..                   ...  \n",
      "161         2.180422e+07  \n",
      "162         2.169738e+07  \n",
      "163         2.173976e+07  \n",
      "164         2.191005e+07  \n",
      "165         2.180037e+07  \n",
      "166         2.167134e+07  \n",
      "167         2.159237e+07  \n",
      "168         2.155540e+07  \n",
      "169         2.141448e+07  \n",
      "170         2.136112e+07  \n",
      "171         2.136090e+07  \n",
      "172         2.120290e+07  \n",
      "173         2.117272e+07  \n",
      "174         2.110552e+07  \n",
      "175         2.110815e+07  \n",
      "176         2.110645e+07  \n",
      "177         2.106317e+07  \n",
      "178         2.107548e+07  \n",
      "179         2.098507e+07  \n",
      "180         2.089789e+07  \n",
      "181         2.080630e+07  \n",
      "182         2.086364e+07  \n",
      "183         2.102805e+07  \n",
      "184         2.107443e+07  \n",
      "185         2.126511e+07  \n",
      "186         2.123384e+07  \n",
      "187         2.131249e+07  \n",
      "188         2.128399e+07  \n",
      "189         2.041244e+07  \n",
      "190         2.039588e+07  \n",
      "\n"
     ]
    },
    {
     "name": "stdout",
     "output_type": "stream",
     "text": [
      "[191 rows x 10 columns]\n"
     ]
    }
   ],
   "source": [
    "print(mRF_overfit.scoring_history())"
   ]
  },
  {
   "cell_type": "code",
   "execution_count": 16,
   "metadata": {},
   "outputs": [
    {
     "data": {
      "text/plain": [
       "<matplotlib.axes._subplots.AxesSubplot at 0x1184a7c18>"
      ]
     },
     "execution_count": 16,
     "metadata": {},
     "output_type": "execute_result"
    },
    {
     "data": {
      "image/png": "[encoded data removed]",
      "text/plain": [
       "<Figure size 432x288 with 1 Axes>"
      ]
     },
     "metadata": {},
     "output_type": "display_data"
    }
   ],
   "source": [
    "#Highly overfitted with no improvement after 250 trees\n",
    "sh = mRF_overfit.score_history()\n",
    "sh = pd.DataFrame(sh)\n",
    "#print(sh)\n",
    "sh.plot(x='number_of_trees', y = ['training_rmse','validation_rmse'])"
   ]
  },
  {
   "cell_type": "code",
   "execution_count": 17,
   "metadata": {},
   "outputs": [
    {
     "name": "stdout",
     "output_type": "stream",
     "text": [
      "drf Model Build progress: |███████████████████████████████████████████████| 100%\n",
      "\n",
      "ModelMetricsRegression: drf\n",
      "** Reported on test data. **\n",
      "\n",
      "MSE: 20639858.008264724\n",
      "RMSE: 4543.111049519341\n",
      "MAE: 3609.966064880952\n",
      "RMSLE: 0.009206195617586213\n",
      "Mean Residual Deviance: 20639858.008264724\n"
     ]
    },
    {
     "data": {
      "text/plain": []
     },
     "execution_count": 17,
     "metadata": {},
     "output_type": "execute_result"
    }
   ],
   "source": [
    "#Now lets try to train with high number of trees and max_depth\n",
    "mRF_overfit = H2ORandomForestEstimator(model_id=\"mrf_overfit\",ntrees=1000,max_depth=100)\n",
    "mRF_overfit.train(train_columns,\"Price\",train, validation_frame=valid)\n",
    "mRF_overfit.model_performance(test)"
   ]
  },
  {
   "cell_type": "code",
   "execution_count": 18,
   "metadata": {},
   "outputs": [
    {
     "data": {
      "text/plain": [
       "<matplotlib.axes._subplots.AxesSubplot at 0x1185b3588>"
      ]
     },
     "execution_count": 18,
     "metadata": {},
     "output_type": "execute_result"
    },
    {
     "data": {
      "image/png": "[encoded data removed]",
      "text/plain": [
       "<Figure size 432x288 with 1 Axes>"
      ]
     },
     "metadata": {},
     "output_type": "display_data"
    }
   ],
   "source": [
    "#Even more overfitted data\n",
    "sh = mRF_overfit.score_history()\n",
    "sh = pd.DataFrame(sh)\n",
    "sh.plot(x='number_of_trees', y = ['training_rmse','validation_rmse'])"
   ]
  },
  {
   "cell_type": "code",
   "execution_count": 19,
   "metadata": {},
   "outputs": [
    {
     "name": "stdout",
     "output_type": "stream",
     "text": [
      "                  timestamp    duration  number_of_trees  training_rmse  \\\n",
      "0       2018-08-30 01:05:18   0.021 sec              0.0            NaN   \n",
      "1       2018-08-30 01:05:18   0.072 sec              1.0    9713.146317   \n",
      "2       2018-08-30 01:05:18   0.083 sec              2.0   11138.915521   \n",
      "3       2018-08-30 01:05:18   0.091 sec              3.0   12432.431917   \n",
      "4       2018-08-30 01:05:18   0.105 sec              4.0   11183.828473   \n",
      "5       2018-08-30 01:05:18   0.111 sec              5.0   10061.322395   \n",
      "6       2018-08-30 01:05:18   0.119 sec              6.0    9410.515663   \n",
      "7       2018-08-30 01:05:18   0.127 sec              7.0    9185.942621   \n",
      "8       2018-08-30 01:05:18   0.136 sec              8.0    9281.310554   \n",
      "9       2018-08-30 01:05:18   0.144 sec              9.0    8929.777625   \n",
      "10      2018-08-30 01:05:18   0.154 sec             10.0    8384.628237   \n",
      "11      2018-08-30 01:05:18   0.162 sec             11.0    7734.788539   \n",
      "12      2018-08-30 01:05:18   0.171 sec             12.0    7171.768631   \n",
      "13      2018-08-30 01:05:18   0.181 sec             13.0    6929.877276   \n",
      "14      2018-08-30 01:05:18   0.189 sec             14.0    6975.693621   \n",
      "15      2018-08-30 01:05:18   0.196 sec             15.0    6780.756300   \n",
      "16      2018-08-30 01:05:18   0.204 sec             16.0    6667.836709   \n",
      "17      2018-08-30 01:05:18   0.212 sec             17.0    6450.841822   \n",
      "18      2018-08-30 01:05:18   0.222 sec             18.0    6654.791472   \n",
      "19      2018-08-30 01:05:18   0.228 sec             19.0    6532.676665   \n",
      "20      2018-08-30 01:05:18   0.236 sec             20.0    6413.224765   \n",
      "21      2018-08-30 01:05:18   0.243 sec             21.0    6250.315916   \n",
      "22      2018-08-30 01:05:18   0.250 sec             22.0    6112.967450   \n",
      "23      2018-08-30 01:05:19   0.257 sec             23.0    6035.363209   \n",
      "24      2018-08-30 01:05:19   0.268 sec             24.0    6103.293672   \n",
      "25      2018-08-30 01:05:19   0.281 sec             25.0    5975.655469   \n",
      "26      2018-08-30 01:05:19   0.298 sec             26.0    5987.781349   \n",
      "27      2018-08-30 01:05:19   0.312 sec             27.0    5880.144773   \n",
      "28      2018-08-30 01:05:19   0.328 sec             28.0    5788.674252   \n",
      "29      2018-08-30 01:05:19   0.342 sec             29.0    5686.107674   \n",
      "..  ..                  ...         ...              ...            ...   \n",
      "218     2018-08-30 01:05:22   3.256 sec            218.0    4813.112185   \n",
      "219     2018-08-30 01:05:22   3.279 sec            219.0    4808.559312   \n",
      "220     2018-08-30 01:05:22   3.308 sec            220.0    4803.613256   \n",
      "221     2018-08-30 01:05:22   3.334 sec            221.0    4798.515102   \n",
      "222     2018-08-30 01:05:22   3.356 sec            222.0    4799.483675   \n",
      "223     2018-08-30 01:05:22   3.384 sec            223.0    4794.888338   \n",
      "224     2018-08-30 01:05:22   3.420 sec            224.0    4802.540466   \n",
      "225     2018-08-30 01:05:22   3.450 sec            225.0    4802.683764   \n",
      "226     2018-08-30 01:05:22   3.477 sec            226.0    4794.970208   \n",
      "227     2018-08-30 01:05:22   3.500 sec            227.0    4789.182725   \n",
      "228     2018-08-30 01:05:22   3.522 sec            228.0    4793.264366   \n",
      "229     2018-08-30 01:05:22   3.545 sec            229.0    4790.830224   \n",
      "230     2018-08-30 01:05:22   3.573 sec            230.0    4782.503293   \n",
      "231     2018-08-30 01:05:22   3.597 sec            231.0    4780.434876   \n",
      "232     2018-08-30 01:05:22   3.618 sec            232.0    4779.870221   \n",
      "233     2018-08-30 01:05:22   3.644 sec            233.0    4776.458834   \n",
      "234     2018-08-30 01:05:22   3.695 sec            234.0    4766.115028   \n",
      "235     2018-08-30 01:05:22   3.730 sec            235.0    4766.847478   \n",
      "236     2018-08-30 01:05:22   3.777 sec            236.0    4770.093722   \n",
      "237     2018-08-30 01:05:22   3.800 sec            237.0    4778.489709   \n",
      "238     2018-08-30 01:05:22   3.822 sec            238.0    4788.809605   \n",
      "239     2018-08-30 01:05:22   3.845 sec            239.0    4787.632060   \n",
      "240     2018-08-30 01:05:22   3.876 sec            240.0    4784.672905   \n",
      "241     2018-08-30 01:05:22   3.913 sec            241.0    4783.879760   \n",
      "242     2018-08-30 01:05:22   3.948 sec            242.0    4780.427817   \n",
      "243     2018-08-30 01:05:22   3.978 sec            243.0    4777.930852   \n",
      "244     2018-08-30 01:05:22   4.010 sec            244.0    4782.874379   \n",
      "245     2018-08-30 01:05:22   4.044 sec            245.0    4784.157395   \n",
      "246     2018-08-30 01:05:26   8.049 sec            990.0    4697.627653   \n",
      "247     2018-08-30 01:05:26   8.181 sec           1000.0    4708.425948   \n",
      "\n",
      "     training_mae  training_deviance  validation_rmse  validation_mae  \\\n",
      "0             NaN                NaN              NaN             NaN   \n",
      "1     7074.377232       9.434521e+07      9340.158325     6901.342831   \n",
      "2     7680.573601       1.240754e+08      8070.736799     5941.632200   \n",
      "3     8988.973463       1.545654e+08      9096.159561     7034.035948   \n",
      "4     8104.917826       1.250780e+08      7644.479973     6186.094822   \n",
      "5     7357.104272       1.012302e+08      6570.198303     5242.178983   \n",
      "6     6943.694467       8.855781e+07      6151.897182     4987.391850   \n",
      "7     6783.577880       8.438154e+07      6282.174284     5045.883403   \n",
      "8     6788.305865       8.614273e+07      6101.867359     4861.800820   \n",
      "9     6557.413674       7.974093e+07      6069.354023     4723.708367   \n",
      "10    6094.392020       7.030199e+07      5695.499677     4423.350980   \n",
      "11    5731.941300       5.982695e+07      5657.536315     4474.183406   \n",
      "12    5455.936691       5.143427e+07      5470.991896     4322.554509   \n",
      "13    5323.772529       4.802320e+07      5474.297289     4386.820136   \n",
      "14    5373.329092       4.866030e+07      5571.018572     4433.992450   \n",
      "15    5212.307127       4.597866e+07      5446.176942     4271.272222   \n",
      "16    5141.566774       4.446005e+07      5416.177983     4294.139189   \n",
      "17    5049.909651       4.161336e+07      5360.280588     4238.214731   \n",
      "18    5234.072946       4.428625e+07      5413.905052     4254.375647   \n",
      "19    5145.499411       4.267586e+07      5220.622927     4043.581930   \n",
      "20    5112.604615       4.112945e+07      5250.741426     4105.481832   \n",
      "21    4994.562627       3.906645e+07      5109.680665     3988.978496   \n",
      "22    4901.033428       3.736837e+07      5026.761635     3907.759442   \n",
      "23    4838.787800       3.642561e+07      5002.849142     3908.571332   \n",
      "24    4887.630611       3.725019e+07      5152.260911     4077.794360   \n",
      "25    4779.495890       3.570846e+07      5076.576449     4004.110564   \n",
      "26    4769.611288       3.585353e+07      5096.381152     4026.651478   \n",
      "27    4699.558924       3.457610e+07      5055.018689     3988.413864   \n",
      "28    4618.737180       3.350875e+07      5003.269347     3944.707972   \n",
      "29    4549.677590       3.233182e+07      5055.724393     3965.804989   \n",
      "..            ...                ...              ...             ...   \n",
      "218   3790.466807       2.316605e+07      4660.437409     3598.422651   \n",
      "219   3788.491713       2.312224e+07      4658.619802     3594.653407   \n",
      "220   3785.754906       2.307470e+07      4655.547005     3593.065223   \n",
      "221   3783.174040       2.302575e+07      4657.216686     3598.136736   \n",
      "222   3783.685716       2.303504e+07      4656.798774     3602.756272   \n",
      "223   3781.765049       2.299095e+07      4655.539145     3599.025032   \n",
      "224   3786.205522       2.306439e+07      4652.679433     3593.111944   \n",
      "225   3784.075631       2.306577e+07      4646.205234     3584.367315   \n",
      "226   3775.683127       2.299174e+07      4632.864457     3570.745173   \n",
      "227   3768.531025       2.293627e+07      4625.543616     3568.118991   \n",
      "228   3776.042174       2.297538e+07      4620.391201     3559.143511   \n",
      "229   3776.121578       2.295205e+07      4611.262409     3549.233410   \n",
      "230   3770.014936       2.287234e+07      4605.970882     3540.747502   \n",
      "231   3768.715723       2.285256e+07      4605.660189     3541.376224   \n",
      "232   3768.754363       2.284716e+07      4609.807795     3543.006615   \n",
      "233   3763.876697       2.281456e+07      4604.361648     3544.689166   \n",
      "234   3757.253221       2.271585e+07      4596.994896     3539.384922   \n",
      "235   3758.243373       2.272283e+07      4588.033384     3534.177429   \n",
      "236   3759.977508       2.275379e+07      4590.219747     3534.237278   \n",
      "237   3762.951621       2.283396e+07      4601.130870     3543.931273   \n",
      "238   3769.298693       2.293270e+07      4613.892095     3557.955777   \n",
      "239   3766.594421       2.292142e+07      4623.060791     3558.160537   \n",
      "240   3768.061365       2.289309e+07      4625.341706     3560.149983   \n",
      "241   3766.363372       2.288551e+07      4630.948646     3563.025022   \n",
      "242   3766.078671       2.285249e+07      4622.693788     3553.614737   \n",
      "243   3764.852230       2.282862e+07      4615.774033     3553.051556   \n",
      "244   3768.533803       2.287589e+07      4611.005486     3550.106604   \n",
      "245   3771.168849       2.288816e+07      4613.668179     3552.871802   \n",
      "246   3687.378243       2.206771e+07      4486.556913     3435.274908   \n",
      "247   3695.944492       2.216927e+07      4490.895573     3437.889278   \n",
      "\n",
      "     validation_deviance  \n",
      "0                    NaN  \n",
      "1           8.723856e+07  \n",
      "2           6.513679e+07  \n",
      "3           8.274012e+07  \n",
      "4           5.843807e+07  \n",
      "5           4.316751e+07  \n",
      "6           3.784584e+07  \n",
      "7           3.946571e+07  \n",
      "8           3.723279e+07  \n",
      "9           3.683706e+07  \n",
      "10          3.243872e+07  \n",
      "11          3.200772e+07  \n",
      "12          2.993175e+07  \n",
      "13          2.996793e+07  \n",
      "14          3.103625e+07  \n",
      "15          2.966084e+07  \n",
      "16          2.933498e+07  \n",
      "17          2.873261e+07  \n",
      "18          2.931037e+07  \n",
      "19          2.725490e+07  \n",
      "20          2.757029e+07  \n",
      "21          2.610884e+07  \n",
      "22          2.526833e+07  \n",
      "23          2.502850e+07  \n",
      "24          2.654579e+07  \n",
      "25          2.577163e+07  \n",
      "26          2.597310e+07  \n",
      "27          2.555321e+07  \n",
      "28          2.503270e+07  \n",
      "29          2.556035e+07  \n",
      "..                   ...  \n",
      "218         2.171968e+07  \n",
      "219         2.170274e+07  \n",
      "220         2.167412e+07  \n",
      "221         2.168967e+07  \n",
      "222         2.168577e+07  \n",
      "223         2.167404e+07  \n",
      "224         2.164743e+07  \n",
      "225         2.158722e+07  \n",
      "226         2.146343e+07  \n",
      "227         2.139565e+07  \n",
      "228         2.134801e+07  \n",
      "229         2.126374e+07  \n",
      "230         2.121497e+07  \n",
      "231         2.121211e+07  \n",
      "232         2.125033e+07  \n",
      "233         2.120015e+07  \n",
      "234         2.113236e+07  \n",
      "235         2.105005e+07  \n",
      "236         2.107012e+07  \n",
      "237         2.117041e+07  \n",
      "238         2.128800e+07  \n",
      "239         2.137269e+07  \n",
      "240         2.139379e+07  \n",
      "241         2.144569e+07  \n",
      "242         2.136930e+07  \n",
      "243         2.130537e+07  \n",
      "244         2.126137e+07  \n",
      "245         2.128593e+07  \n",
      "246         2.012919e+07  \n",
      "247         2.016814e+07  \n",
      "\n"
     ]
    },
    {
     "name": "stdout",
     "output_type": "stream",
     "text": [
      "[248 rows x 10 columns]\n"
     ]
    }
   ],
   "source": [
    "print(mRF_overfit.scoring_history())"
   ]
  }
 ],
 "metadata": {
  "kernelspec": {
   "display_name": "Python 3",
   "language": "python",
   "name": "python3"
  },
  "language_info": {
   "codemirror_mode": {
    "name": "ipython",
    "version": 3
   },
   "file_extension": ".py",
   "mimetype": "text/x-python",
   "name": "python",
   "nbconvert_exporter": "python",
   "pygments_lexer": "ipython3",
   "version": "3.6.5"
  }
 },
 "nbformat": 4,
 "nbformat_minor": 2
}
