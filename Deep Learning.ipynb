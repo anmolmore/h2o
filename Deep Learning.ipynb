{
 "cells": [
  {
   "cell_type": "code",
   "execution_count": 2,
   "metadata": {},
   "outputs": [],
   "source": [
    "import h2o\n",
    "import numpy as np\n",
    "import pandas as pd\n",
    "from sklearn import datasets"
   ]
  },
  {
   "cell_type": "code",
   "execution_count": 3,
   "metadata": {},
   "outputs": [
    {
     "name": "stdout",
     "output_type": "stream",
     "text": [
      "Checking whether there is an H2O instance running at http://localhost:54321..... not found.\n",
      "Attempting to start a local H2O server...\n",
      "  Java Version: java version \"1.8.0_181\"; Java(TM) SE Runtime Environment (build 1.8.0_181-b13); Java HotSpot(TM) 64-Bit Server VM (build 25.181-b13, mixed mode)\n",
      "  Starting server from /Users/anmol/anaconda3/lib/python3.6/site-packages/h2o/backend/bin/h2o.jar\n",
      "  Ice root: /var/folders/c7/lxw5_lpx2018kgdjjfy_m00r0000gn/T/tmpwg7xuqx6\n",
      "  JVM stdout: /var/folders/c7/lxw5_lpx2018kgdjjfy_m00r0000gn/T/tmpwg7xuqx6/h2o_anmol_started_from_python.out\n",
      "  JVM stderr: /var/folders/c7/lxw5_lpx2018kgdjjfy_m00r0000gn/T/tmpwg7xuqx6/h2o_anmol_started_from_python.err\n",
      "  Server is running at http://127.0.0.1:54321\n",
      "Connecting to H2O server at http://127.0.0.1:54321... successful.\n"
     ]
    },
    {
     "data": {
      "text/html": [
       "<div style=\"overflow:auto\"><table style=\"width:50%\"><tr><td>H2O cluster uptime:</td>\n",
       "<td>02 secs</td></tr>\n",
       "<tr><td>H2O cluster timezone:</td>\n",
       "<td>Asia/Kolkata</td></tr>\n",
       "<tr><td>H2O data parsing timezone:</td>\n",
       "<td>UTC</td></tr>\n",
       "<tr><td>H2O cluster version:</td>\n",
       "<td>3.20.0.5</td></tr>\n",
       "<tr><td>H2O cluster version age:</td>\n",
       "<td>17 days </td></tr>\n",
       "<tr><td>H2O cluster name:</td>\n",
       "<td>H2O_from_python_anmol_j0ppg0</td></tr>\n",
       "<tr><td>H2O cluster total nodes:</td>\n",
       "<td>1</td></tr>\n",
       "<tr><td>H2O cluster free memory:</td>\n",
       "<td>1.778 Gb</td></tr>\n",
       "<tr><td>H2O cluster total cores:</td>\n",
       "<td>4</td></tr>\n",
       "<tr><td>H2O cluster allowed cores:</td>\n",
       "<td>4</td></tr>\n",
       "<tr><td>H2O cluster status:</td>\n",
       "<td>accepting new members, healthy</td></tr>\n",
       "<tr><td>H2O connection url:</td>\n",
       "<td>http://127.0.0.1:54321</td></tr>\n",
       "<tr><td>H2O connection proxy:</td>\n",
       "<td>None</td></tr>\n",
       "<tr><td>H2O internal security:</td>\n",
       "<td>False</td></tr>\n",
       "<tr><td>H2O API Extensions:</td>\n",
       "<td>XGBoost, Algos, AutoML, Core V3, Core V4</td></tr>\n",
       "<tr><td>Python version:</td>\n",
       "<td>3.6.5 final</td></tr></table></div>"
      ],
      "text/plain": [
       "--------------------------  ----------------------------------------\n",
       "H2O cluster uptime:         02 secs\n",
       "H2O cluster timezone:       Asia/Kolkata\n",
       "H2O data parsing timezone:  UTC\n",
       "H2O cluster version:        3.20.0.5\n",
       "H2O cluster version age:    17 days\n",
       "H2O cluster name:           H2O_from_python_anmol_j0ppg0\n",
       "H2O cluster total nodes:    1\n",
       "H2O cluster free memory:    1.778 Gb\n",
       "H2O cluster total cores:    4\n",
       "H2O cluster allowed cores:  4\n",
       "H2O cluster status:         accepting new members, healthy\n",
       "H2O connection url:         http://127.0.0.1:54321\n",
       "H2O connection proxy:\n",
       "H2O internal security:      False\n",
       "H2O API Extensions:         XGBoost, Algos, AutoML, Core V3, Core V4\n",
       "Python version:             3.6.5 final\n",
       "--------------------------  ----------------------------------------"
      ]
     },
     "metadata": {},
     "output_type": "display_data"
    }
   ],
   "source": [
    "h2o.init()"
   ]
  },
  {
   "cell_type": "code",
   "execution_count": 4,
   "metadata": {},
   "outputs": [
    {
     "data": {
      "text/html": [
       "<div>\n",
       "<style scoped>\n",
       "    .dataframe tbody tr th:only-of-type {\n",
       "        vertical-align: middle;\n",
       "    }\n",
       "\n",
       "    .dataframe tbody tr th {\n",
       "        vertical-align: top;\n",
       "    }\n",
       "\n",
       "    .dataframe thead th {\n",
       "        text-align: right;\n",
       "    }\n",
       "</style>\n",
       "<table border=\"1\" class=\"dataframe\">\n",
       "  <thead>\n",
       "    <tr style=\"text-align: right;\">\n",
       "      <th></th>\n",
       "      <th>CRIM</th>\n",
       "      <th>ZN</th>\n",
       "      <th>INDUS</th>\n",
       "      <th>CHAS</th>\n",
       "      <th>NOX</th>\n",
       "      <th>RM</th>\n",
       "      <th>AGE</th>\n",
       "      <th>DIS</th>\n",
       "      <th>RAD</th>\n",
       "      <th>TAX</th>\n",
       "      <th>PTRATIO</th>\n",
       "      <th>B</th>\n",
       "      <th>LSTAT</th>\n",
       "      <th>PRICE</th>\n",
       "    </tr>\n",
       "  </thead>\n",
       "  <tbody>\n",
       "    <tr>\n",
       "      <th>0</th>\n",
       "      <td>0.00632</td>\n",
       "      <td>18.0</td>\n",
       "      <td>2.31</td>\n",
       "      <td>0.0</td>\n",
       "      <td>0.538</td>\n",
       "      <td>6.575</td>\n",
       "      <td>65.2</td>\n",
       "      <td>4.0900</td>\n",
       "      <td>1.0</td>\n",
       "      <td>296.0</td>\n",
       "      <td>15.3</td>\n",
       "      <td>396.90</td>\n",
       "      <td>4.98</td>\n",
       "      <td>24.0</td>\n",
       "    </tr>\n",
       "    <tr>\n",
       "      <th>1</th>\n",
       "      <td>0.02731</td>\n",
       "      <td>0.0</td>\n",
       "      <td>7.07</td>\n",
       "      <td>0.0</td>\n",
       "      <td>0.469</td>\n",
       "      <td>6.421</td>\n",
       "      <td>78.9</td>\n",
       "      <td>4.9671</td>\n",
       "      <td>2.0</td>\n",
       "      <td>242.0</td>\n",
       "      <td>17.8</td>\n",
       "      <td>396.90</td>\n",
       "      <td>9.14</td>\n",
       "      <td>21.6</td>\n",
       "    </tr>\n",
       "    <tr>\n",
       "      <th>2</th>\n",
       "      <td>0.02729</td>\n",
       "      <td>0.0</td>\n",
       "      <td>7.07</td>\n",
       "      <td>0.0</td>\n",
       "      <td>0.469</td>\n",
       "      <td>7.185</td>\n",
       "      <td>61.1</td>\n",
       "      <td>4.9671</td>\n",
       "      <td>2.0</td>\n",
       "      <td>242.0</td>\n",
       "      <td>17.8</td>\n",
       "      <td>392.83</td>\n",
       "      <td>4.03</td>\n",
       "      <td>34.7</td>\n",
       "    </tr>\n",
       "    <tr>\n",
       "      <th>3</th>\n",
       "      <td>0.03237</td>\n",
       "      <td>0.0</td>\n",
       "      <td>2.18</td>\n",
       "      <td>0.0</td>\n",
       "      <td>0.458</td>\n",
       "      <td>6.998</td>\n",
       "      <td>45.8</td>\n",
       "      <td>6.0622</td>\n",
       "      <td>3.0</td>\n",
       "      <td>222.0</td>\n",
       "      <td>18.7</td>\n",
       "      <td>394.63</td>\n",
       "      <td>2.94</td>\n",
       "      <td>33.4</td>\n",
       "    </tr>\n",
       "    <tr>\n",
       "      <th>4</th>\n",
       "      <td>0.06905</td>\n",
       "      <td>0.0</td>\n",
       "      <td>2.18</td>\n",
       "      <td>0.0</td>\n",
       "      <td>0.458</td>\n",
       "      <td>7.147</td>\n",
       "      <td>54.2</td>\n",
       "      <td>6.0622</td>\n",
       "      <td>3.0</td>\n",
       "      <td>222.0</td>\n",
       "      <td>18.7</td>\n",
       "      <td>396.90</td>\n",
       "      <td>5.33</td>\n",
       "      <td>36.2</td>\n",
       "    </tr>\n",
       "  </tbody>\n",
       "</table>\n",
       "</div>"
      ],
      "text/plain": [
       "      CRIM    ZN  INDUS  CHAS    NOX     RM   AGE     DIS  RAD    TAX  \\\n",
       "0  0.00632  18.0   2.31   0.0  0.538  6.575  65.2  4.0900  1.0  296.0   \n",
       "1  0.02731   0.0   7.07   0.0  0.469  6.421  78.9  4.9671  2.0  242.0   \n",
       "2  0.02729   0.0   7.07   0.0  0.469  7.185  61.1  4.9671  2.0  242.0   \n",
       "3  0.03237   0.0   2.18   0.0  0.458  6.998  45.8  6.0622  3.0  222.0   \n",
       "4  0.06905   0.0   2.18   0.0  0.458  7.147  54.2  6.0622  3.0  222.0   \n",
       "\n",
       "   PTRATIO       B  LSTAT  PRICE  \n",
       "0     15.3  396.90   4.98   24.0  \n",
       "1     17.8  396.90   9.14   21.6  \n",
       "2     17.8  392.83   4.03   34.7  \n",
       "3     18.7  394.63   2.94   33.4  \n",
       "4     18.7  396.90   5.33   36.2  "
      ]
     },
     "execution_count": 4,
     "metadata": {},
     "output_type": "execute_result"
    }
   ],
   "source": [
    "boston_data = datasets.load_boston()\n",
    "boston_df = df = pd.DataFrame(boston_data.data, columns=boston_data.feature_names)\n",
    "boston_df['PRICE'] = boston_data.target\n",
    "boston_df.head()"
   ]
  },
  {
   "cell_type": "code",
   "execution_count": 5,
   "metadata": {},
   "outputs": [
    {
     "name": "stderr",
     "output_type": "stream",
     "text": [
      "/Users/anmol/anaconda3/lib/python3.6/site-packages/h2o/utils/shared_utils.py:177: FutureWarning: Method .as_matrix will be removed in a future version. Use .values instead.\n",
      "  data = _handle_python_lists(python_obj.as_matrix().tolist(), -1)[1]\n"
     ]
    },
    {
     "name": "stdout",
     "output_type": "stream",
     "text": [
      "Parse progress: |█████████████████████████████████████████████████████████| 100%\n"
     ]
    },
    {
     "data": {
      "text/html": [
       "<table>\n",
       "<thead>\n",
       "<tr><th>       </th><th>CRIM             </th><th>ZN                </th><th>INDUS             </th><th>CHAS               </th><th>NOX                </th><th>RM                </th><th>AGE               </th><th>DIS               </th><th>RAD              </th><th>TAX               </th><th>PTRATIO           </th><th>B                </th><th>LSTAT             </th><th>PRICE             </th></tr>\n",
       "</thead>\n",
       "<tbody>\n",
       "<tr><td>type   </td><td>real             </td><td>real              </td><td>real              </td><td>int                </td><td>real               </td><td>real              </td><td>real              </td><td>real              </td><td>int              </td><td>int               </td><td>real              </td><td>real             </td><td>real              </td><td>real              </td></tr>\n",
       "<tr><td>mins   </td><td>0.00632          </td><td>0.0               </td><td>0.46              </td><td>0.0                </td><td>0.385              </td><td>3.561             </td><td>2.9               </td><td>1.1296            </td><td>1.0              </td><td>187.0             </td><td>12.6              </td><td>0.32             </td><td>1.73              </td><td>5.0               </td></tr>\n",
       "<tr><td>mean   </td><td>3.59376071146245 </td><td>11.363636363636365</td><td>11.136778656126484</td><td>0.0691699604743083 </td><td>0.554695059288538  </td><td>6.28463438735178  </td><td>68.5749011857708  </td><td>3.7950426877470367</td><td>9.549407114624506</td><td>408.23715415019757</td><td>18.455533596837927</td><td>356.6740316205534</td><td>12.653063241106722</td><td>22.532806324110666</td></tr>\n",
       "<tr><td>maxs   </td><td>88.9762          </td><td>100.0             </td><td>27.74             </td><td>1.0                </td><td>0.871              </td><td>8.78              </td><td>100.0             </td><td>12.1265           </td><td>24.0             </td><td>711.0             </td><td>22.0              </td><td>396.9            </td><td>37.97             </td><td>50.0              </td></tr>\n",
       "<tr><td>sigma  </td><td>8.596782593323324</td><td>23.32245299451514 </td><td>6.860352940897589 </td><td>0.25399404134041037</td><td>0.11587767566755584</td><td>0.7026171434153232</td><td>28.148861406903595</td><td>2.1057101266276104</td><td>8.707259384239366</td><td>168.53711605495903</td><td>2.1649455237144455</td><td>91.29486438415782</td><td>7.141061511348571 </td><td>9.197104087379815 </td></tr>\n",
       "<tr><td>zeros  </td><td>0                </td><td>372               </td><td>0                 </td><td>471                </td><td>0                  </td><td>0                 </td><td>0                 </td><td>0                 </td><td>0                </td><td>0                 </td><td>0                 </td><td>0                </td><td>0                 </td><td>0                 </td></tr>\n",
       "<tr><td>missing</td><td>0                </td><td>0                 </td><td>0                 </td><td>0                  </td><td>0                  </td><td>0                 </td><td>0                 </td><td>0                 </td><td>0                </td><td>0                 </td><td>0                 </td><td>0                </td><td>0                 </td><td>0                 </td></tr>\n",
       "<tr><td>0      </td><td>0.00632          </td><td>18.0              </td><td>2.31              </td><td>0.0                </td><td>0.538              </td><td>6.575             </td><td>65.2              </td><td>4.09              </td><td>1.0              </td><td>296.0             </td><td>15.3              </td><td>396.9            </td><td>4.98              </td><td>24.0              </td></tr>\n",
       "<tr><td>1      </td><td>0.02731          </td><td>0.0               </td><td>7.07              </td><td>0.0                </td><td>0.469              </td><td>6.421             </td><td>78.9              </td><td>4.9671            </td><td>2.0              </td><td>242.0             </td><td>17.8              </td><td>396.9            </td><td>9.14              </td><td>21.6              </td></tr>\n",
       "<tr><td>2      </td><td>0.02729          </td><td>0.0               </td><td>7.07              </td><td>0.0                </td><td>0.469              </td><td>7.185             </td><td>61.1              </td><td>4.9671            </td><td>2.0              </td><td>242.0             </td><td>17.8              </td><td>392.83           </td><td>4.03              </td><td>34.7              </td></tr>\n",
       "<tr><td>3      </td><td>0.03237          </td><td>0.0               </td><td>2.18              </td><td>0.0                </td><td>0.458              </td><td>6.998             </td><td>45.8              </td><td>6.0622            </td><td>3.0              </td><td>222.0             </td><td>18.7              </td><td>394.63           </td><td>2.94              </td><td>33.4              </td></tr>\n",
       "<tr><td>4      </td><td>0.06905          </td><td>0.0               </td><td>2.18              </td><td>0.0                </td><td>0.458              </td><td>7.147             </td><td>54.2              </td><td>6.0622            </td><td>3.0              </td><td>222.0             </td><td>18.7              </td><td>396.9            </td><td>5.33              </td><td>36.2              </td></tr>\n",
       "<tr><td>5      </td><td>0.02985          </td><td>0.0               </td><td>2.18              </td><td>0.0                </td><td>0.458              </td><td>6.43              </td><td>58.7              </td><td>6.0622            </td><td>3.0              </td><td>222.0             </td><td>18.7              </td><td>394.12           </td><td>5.21              </td><td>28.7              </td></tr>\n",
       "<tr><td>6      </td><td>0.08829          </td><td>12.5              </td><td>7.87              </td><td>0.0                </td><td>0.524              </td><td>6.012             </td><td>66.6              </td><td>5.5605            </td><td>5.0              </td><td>311.0             </td><td>15.2              </td><td>395.6            </td><td>12.43             </td><td>22.9              </td></tr>\n",
       "<tr><td>7      </td><td>0.14455          </td><td>12.5              </td><td>7.87              </td><td>0.0                </td><td>0.524              </td><td>6.172             </td><td>96.1              </td><td>5.9505            </td><td>5.0              </td><td>311.0             </td><td>15.2              </td><td>396.9            </td><td>19.15             </td><td>27.1              </td></tr>\n",
       "<tr><td>8      </td><td>0.21124          </td><td>12.5              </td><td>7.87              </td><td>0.0                </td><td>0.524              </td><td>5.631             </td><td>100.0             </td><td>6.0821            </td><td>5.0              </td><td>311.0             </td><td>15.2              </td><td>386.63           </td><td>29.93             </td><td>16.5              </td></tr>\n",
       "<tr><td>9      </td><td>0.17004          </td><td>12.5              </td><td>7.87              </td><td>0.0                </td><td>0.524              </td><td>6.004             </td><td>85.9              </td><td>6.5921            </td><td>5.0              </td><td>311.0             </td><td>15.2              </td><td>386.71           </td><td>17.1              </td><td>18.9              </td></tr>\n",
       "</tbody>\n",
       "</table>"
      ]
     },
     "metadata": {},
     "output_type": "display_data"
    }
   ],
   "source": [
    "boston = h2o.H2OFrame(boston_df)\n",
    "boston.summary()"
   ]
  },
  {
   "cell_type": "code",
   "execution_count": 6,
   "metadata": {},
   "outputs": [
    {
     "name": "stdout",
     "output_type": "stream",
     "text": [
      "deeplearning Model Build progress: |██████████████████████████████████████| 100%\n"
     ]
    }
   ],
   "source": [
    "from h2o.estimators.deeplearning import H2ODeepLearningEstimator\n",
    "train,test = boston.split_frame([0.8])\n",
    "mDL = H2ODeepLearningEstimator(max_runtime_secs=300)\n",
    "mDL.train([\"CRIM\",\"ZN\",\"INDUS\",\"CHAS\",\"NOX\",\"RM\",\"AGE\",\"DIS\",\"RAD\",\"TAX\",\"PTRATIO\",\"B\",\"LSTAT\"],\"PRICE\",train)"
   ]
  },
  {
   "cell_type": "code",
   "execution_count": 7,
   "metadata": {},
   "outputs": [
    {
     "data": {
      "text/plain": [
       "<Figure size 640x480 with 1 Axes>"
      ]
     },
     "metadata": {},
     "output_type": "display_data"
    }
   ],
   "source": [
    "mDL.plot()"
   ]
  },
  {
   "cell_type": "code",
   "execution_count": 8,
   "metadata": {},
   "outputs": [
    {
     "name": "stdout",
     "output_type": "stream",
     "text": [
      "\n",
      "ModelMetricsRegression: deeplearning\n",
      "** Reported on test data. **\n",
      "\n",
      "MSE: 21.443747957405055\n",
      "RMSE: 4.630739461188143\n",
      "MAE: 3.7022047076245084\n",
      "RMSLE: 0.22528477201669228\n",
      "Mean Residual Deviance: 21.443747957405055\n"
     ]
    },
    {
     "data": {
      "text/plain": []
     },
     "execution_count": 8,
     "metadata": {},
     "output_type": "execute_result"
    }
   ],
   "source": [
    "mDL.model_performance(test)"
   ]
  },
  {
   "cell_type": "code",
   "execution_count": 11,
   "metadata": {},
   "outputs": [
    {
     "name": "stdout",
     "output_type": "stream",
     "text": [
      "gbm Model Build progress: |███████████████████████████████████████████████| 100%\n"
     ]
    }
   ],
   "source": [
    "from h2o.estimators.gbm import H2OGradientBoostingEstimator\n",
    "m2 = H2OGradientBoostingEstimator(model_id='overfit', ntrees=1000, max_depth=10)\n",
    "X = [\"CRIM\",\"ZN\",\"INDUS\",\"CHAS\",\"NOX\",\"RM\",\"AGE\",\"DIS\",\"RAD\",\"TAX\",\"PTRATIO\",\"B\",\"LSTAT\"]\n",
    "y = \"PRICE\"\n",
    "m2.train(X,y,train)"
   ]
  },
  {
   "cell_type": "code",
   "execution_count": 13,
   "metadata": {},
   "outputs": [
    {
     "name": "stdout",
     "output_type": "stream",
     "text": [
      "deeplearning Model Build progress: |██████████████████████████████████████| 100%\n"
     ]
    }
   ],
   "source": [
    "train,valid,test = boston.split_frame([0.8,0.1])\n",
    "mDL = H2ODeepLearningEstimator()\n",
    "mDL.train(X,y,train, validation_frame=valid)"
   ]
  },
  {
   "cell_type": "code",
   "execution_count": 14,
   "metadata": {},
   "outputs": [
    {
     "name": "stdout",
     "output_type": "stream",
     "text": [
      "\n",
      "ModelMetricsRegression: deeplearning\n",
      "** Reported on test data. **\n",
      "\n",
      "MSE: 41.560383032144145\n",
      "RMSE: 6.446734292038423\n",
      "MAE: 5.550944914125252\n",
      "RMSLE: 0.3176461367722542\n",
      "Mean Residual Deviance: 41.560383032144145\n"
     ]
    },
    {
     "data": {
      "text/plain": []
     },
     "execution_count": 14,
     "metadata": {},
     "output_type": "execute_result"
    }
   ],
   "source": [
    "mDL.model_performance(test)"
   ]
  },
  {
   "cell_type": "code",
   "execution_count": 15,
   "metadata": {},
   "outputs": [
    {
     "data": {
      "image/png": "[encoded data removed]",
      "text/plain": [
       "<Figure size 432x288 with 1 Axes>"
      ]
     },
     "metadata": {},
     "output_type": "display_data"
    }
   ],
   "source": [
    "mDL.plot()"
   ]
  },
  {
   "cell_type": "code",
   "execution_count": null,
   "metadata": {},
   "outputs": [],
   "source": []
  }
 ],
 "metadata": {
  "kernelspec": {
   "display_name": "Python 3",
   "language": "python",
   "name": "python3"
  },
  "language_info": {
   "codemirror_mode": {
    "name": "ipython",
    "version": 3
   },
   "file_extension": ".py",
   "mimetype": "text/x-python",
   "name": "python",
   "nbconvert_exporter": "python",
   "pygments_lexer": "ipython3",
   "version": "3.6.5"
  }
 },
 "nbformat": 4,
 "nbformat_minor": 2
}
